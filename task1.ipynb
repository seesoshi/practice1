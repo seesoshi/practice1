card = '4111-1111-4555-1142'
card_numb = ''.join(card.split('-'))

list_odd, list_even = [], []
sum_odd, sum_even = 0, 0

for i in range(0,len(card_numb),2):
  list_even.append(int(card_numb[i]))
  list_odd.append(int(card_numb[i+1]))

sum_odd = sum(list_odd)

for i in range(len(list_even)):
  numb = list_even[i] * 2
  if numb >= 10:
    numb = (numb//10) + (numb%10)
  sum_even += numb

if (sum_odd + sum_even) % 10 == 0:
  print('True')
else:
  print('False')
