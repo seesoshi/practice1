{
 "cells": [
  {
   "cell_type": "code",
   "execution_count": null,
   "id": "75eb7a07-1523-4405-9bd6-2235a42d6434",
   "metadata": {},
   "outputs": [],
   "source": [
    "card = '4111-1111-4555-1142'\n",
    "card_numb = ''.join(card.split('-'))\n",
    "\n",
    "list_odd, list_even = [], []\n",
    "sum_odd, sum_even = 0, 0\n",
    "\n",
    "for i in range(0,len(card_numb),2):\n",
    "  list_even.append(int(card_numb[i]))\n",
    "  list_odd.append(int(card_numb[i+1]))\n",
    "\n",
    "sum_odd = sum(list_odd)\n",
    "\n",
    "for i in range(len(list_even)):\n",
    "  numb = list_even[i] * 2\n",
    "  if numb >= 10:\n",
    "    numb = (numb//10) + (numb%10)\n",
    "  sum_even += numb\n",
    "\n",
    "if (sum_odd + sum_even) % 10 == 0:\n",
    "  print('True')\n",
    "else:\n",
    "  print('False')"
   ]
  }
 ],
 "metadata": {
  "kernelspec": {
   "display_name": "Python 3 (ipykernel)",
   "language": "python",
   "name": "python3"
  },
  "language_info": {
   "codemirror_mode": {
    "name": "ipython",
    "version": 3
   },
   "file_extension": ".py",
   "mimetype": "text/x-python",
   "name": "python",
   "nbconvert_exporter": "python",
   "pygments_lexer": "ipython3",
   "version": "3.10.5"
  }
 },
 "nbformat": 4,
 "nbformat_minor": 5
}
